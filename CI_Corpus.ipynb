{
  "nbformat": 4,
  "nbformat_minor": 0,
  "metadata": {
    "colab": {
      "provenance": [],
      "authorship_tag": "ABX9TyOy0VpNVM8Qj5PDcvOg3Tp1",
      "include_colab_link": true
    },
    "kernelspec": {
      "name": "python3",
      "display_name": "Python 3"
    },
    "language_info": {
      "name": "python"
    }
  },
  "cells": [
    {
      "cell_type": "markdown",
      "metadata": {
        "id": "view-in-github",
        "colab_type": "text"
      },
      "source": [
        "<a href=\"https://colab.research.google.com/github/Guilherme-Inkotte/corpus/blob/main/CI_Corpus.ipynb\" target=\"_parent\"><img src=\"https://colab.research.google.com/assets/colab-badge.svg\" alt=\"Open In Colab\"/></a>"
      ]
    },
    {
      "cell_type": "markdown",
      "source": [
        "# Trabalho 4 - Construção do Corpus\n",
        "## Construção de Interpretadores\n",
        "\n",
        "Sua  tarefa  será  transformar  um  conjunto  de  5  sites,  sobre  o  tema  de  processamento  de linguagem natural em um conjunto de cinco listas distintas de sentenças. Ou seja, você fará uma função que, usando a biblioteca Beautifull Soap, faça a requisição de uma url, e extrai todas as sentenças desta url. Duas condições são importantes:  \n",
        "\n",
        "a) A página web (url) deve apontar para uma página web em inglês contendo, não menos que 1000 palavras.\n",
        "\n",
        "b) O texto desta página deverá ser transformado em um array de senteças.  \n",
        " \n",
        "Para separar as sentenças você pode usar os sinais de pontuação ou as funções da biblibioteca \n",
        "Spacy. "
      ],
      "metadata": {
        "id": "XZADH_wsCSfW"
      }
    },
    {
      "cell_type": "code",
      "execution_count": 25,
      "metadata": {
        "colab": {
          "base_uri": "https://localhost:8080/"
        },
        "id": "kuBPGOtXB2Lq",
        "outputId": "7ac6e54e-975e-43d8-ae35-149d336f0b74"
      },
      "outputs": [
        {
          "output_type": "stream",
          "name": "stdout",
          "text": [
            "Número de palavras: 1176\n"
          ]
        }
      ],
      "source": [
        "from bs4 import BeautifulSoup\n",
        "import requests\n",
        "\n",
        "urls = ['https://www.freecodecamp.org/news/how-to-scrape-websites-with-python-and-beautifulsoup-5946935d93fe/']\n",
        "corpuses = []\n",
        "\n",
        "for url in urls:\n",
        "  page = requests.get(url)\n",
        "  if page.status_code != 200:\n",
        "    print(f\"Ocorreu um erro ao buscar a página {url}.\");\n",
        "    continue\n",
        "  soup = BeautifulSoup(page.content, 'html.parser')\n",
        "  corpus = []\n",
        "  for paragraphTag in soup.find_all(\"p\"):\n",
        "    paragraph = paragraphTag.get_text()\n",
        "    strippedParagraph = paragraph.strip()\n",
        "    if len(strippedParagraph) > 0:\n",
        "      corpus.append(strippedParagraph)\n",
        "  print(f\"Número de palavras: {len(' '.join(corpus).split(' '))}\")"
      ]
    }
  ]
}