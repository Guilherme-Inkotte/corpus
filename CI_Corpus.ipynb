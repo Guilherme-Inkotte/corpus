{
  "nbformat": 4,
  "nbformat_minor": 0,
  "metadata": {
    "colab": {
      "provenance": [],
      "authorship_tag": "ABX9TyObUSkopVqS+t5jKyiUvom0",
      "include_colab_link": true
    },
    "kernelspec": {
      "name": "python3",
      "display_name": "Python 3"
    },
    "language_info": {
      "name": "python"
    }
  },
  "cells": [
    {
      "cell_type": "markdown",
      "metadata": {
        "id": "view-in-github",
        "colab_type": "text"
      },
      "source": [
        "<a href=\"https://colab.research.google.com/github/Guilherme-Inkotte/corpus/blob/main/CI_Corpus.ipynb\" target=\"_parent\"><img src=\"https://colab.research.google.com/assets/colab-badge.svg\" alt=\"Open In Colab\"/></a>"
      ]
    },
    {
      "cell_type": "markdown",
      "source": [
        "# Trabalho 4 - Construção do Corpus\n",
        "## Construção de Interpretadores\n",
        "## Aluno: Guilherme Henrique Schneider Inkotte\n",
        "\n",
        "Sua  tarefa  será  transformar  um  conjunto  de  5  sites,  sobre  o  tema  de  processamento  de linguagem natural em um conjunto de cinco listas distintas de sentenças. Ou seja, você fará uma função que, usando a biblioteca Beautifull Soap, faça a requisição de uma url, e extrai todas as sentenças desta url. Duas condições são importantes:  \n",
        "\n",
        "a) A página web (url) deve apontar para uma página web em inglês contendo, não menos que 1000 palavras.\n",
        "\n",
        "b) O texto desta página deverá ser transformado em um array de senteças.  \n",
        " \n",
        "Para separar as sentenças você pode usar os sinais de pontuação ou as funções da biblibioteca \n",
        "Spacy. "
      ],
      "metadata": {
        "id": "XZADH_wsCSfW"
      }
    },
    {
      "cell_type": "code",
      "execution_count": 49,
      "metadata": {
        "colab": {
          "base_uri": "https://localhost:8080/"
        },
        "id": "kuBPGOtXB2Lq",
        "outputId": "3cd7a636-537c-40b0-b149-beb9ff5c2f4e"
      },
      "outputs": [
        {
          "output_type": "stream",
          "name": "stdout",
          "text": [
            "Número de palavras em https://en.wikipedia.org/wiki/Natural_language_processing: 1359\n",
            "Número de palavras em https://www.ibm.com/cloud/learn/natural-language-processing: 1979\n",
            "Número de palavras em https://www.techtarget.com/searchenterpriseai/definition/natural-language-processing-NLP: 3584\n",
            "Número de palavras em https://www.tableau.com/learn/articles/natural-language-processing-examples: 1929\n",
            "Número de palavras em https://towardsdatascience.com/your-guide-to-natural-language-processing-nlp-48ea2511f6e1: 3170\n"
          ]
        }
      ],
      "source": [
        "from bs4 import BeautifulSoup\n",
        "import requests\n",
        "import spacy\n",
        "\n",
        "nlp = spacy.load(\"en_core_web_sm\")\n",
        "nlp.add_pipe('sentencizer')\n",
        "\n",
        "# Procurar 5 urls sobre processamento de linguagem natural\n",
        "urls = [\n",
        "  \"https://en.wikipedia.org/wiki/Natural_language_processing\", \n",
        "  \"https://www.ibm.com/cloud/learn/natural-language-processing\",\n",
        "  \"https://www.techtarget.com/searchenterpriseai/definition/natural-language-processing-NLP\",\n",
        "  \"https://www.tableau.com/learn/articles/natural-language-processing-examples\",\n",
        "  \"https://towardsdatascience.com/your-guide-to-natural-language-processing-nlp-48ea2511f6e1\"\n",
        "]\n",
        "noLi = [\n",
        "  \"https://en.wikipedia.org/wiki/Natural_language_processing\",\n",
        "  \"https://www.tableau.com/learn/articles/natural-language-processing-examples\",\n",
        "]\n",
        "corpuses = []\n",
        "\n",
        "for url in urls:\n",
        "  page = requests.get(url)\n",
        "  if page.status_code != 200:\n",
        "    print(f\"Ocorreu um erro ao buscar a página {url}.\");\n",
        "    continue\n",
        "  soup = BeautifulSoup(page.content, 'html.parser')\n",
        "  corpus = []\n",
        "  for paragraphTag in soup.find_all([\"p\", \"h1\", \"h2\", \"h3\", \"h4\", \"h5\", \"h6\", \"li\" if url not in noLi else \"\"]):\n",
        "    paragraph = paragraphTag.get_text()\n",
        "    strippedParagraph = paragraph.strip()\n",
        "    if len(strippedParagraph) > 0:\n",
        "      doc = nlp(strippedParagraph)\n",
        "      for sentence in doc.sents:\n",
        "        corpus.append(sentence.text)\n",
        "  corpuses.append(corpus)\n",
        "  print(f\"Número de palavras em {url}: {len(' '.join(corpus).split(' '))}\")"
      ]
    }
  ]
}